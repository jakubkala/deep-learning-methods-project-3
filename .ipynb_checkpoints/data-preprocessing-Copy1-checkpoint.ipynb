{
 "cells": [
  {
   "cell_type": "code",
   "execution_count": 1,
   "metadata": {},
   "outputs": [],
   "source": [
    "from sklearn.preprocessing import OneHotEncoder\n",
    "import numpy as np\n",
    "import os\n",
    "\n",
    "from glob import glob\n",
    "import gc\n",
    "import re\n",
    "from scipy.io import wavfile\n",
    "from scipy import signal\n",
    "\n",
    "train_data_path = \"./data/train/audio/\"\n",
    "test_data_path = \"./data/test/audio\""
   ]
  },
  {
   "cell_type": "code",
   "execution_count": null,
   "metadata": {},
   "outputs": [],
   "source": []
  },
  {
   "cell_type": "code",
   "execution_count": 2,
   "metadata": {},
   "outputs": [],
   "source": [
    "def list_wavs_fname(dirpath, ext='wav'):\n",
    "    print(dirpath)\n",
    "    fpaths = glob(os.path.join(dirpath, r'*/*' + ext))\n",
    "    pat = r'.+/(\\w+)/\\w+\\.' + ext + '$'\n",
    "    labels = []\n",
    "    for fpath in fpaths:\n",
    "        r = re.match(pat, fpath)\n",
    "        if r:\n",
    "            labels.append(r.group(1))\n",
    "    pat = r'.+/(\\w+\\.' + ext + ')$'\n",
    "    fnames = []\n",
    "    for fpath in fpaths:\n",
    "        r = re.match(pat, fpath)\n",
    "        if r:\n",
    "            fnames.append(r.group(1))\n",
    "    return labels, fnames"
   ]
  },
  {
   "cell_type": "code",
   "execution_count": 3,
   "metadata": {},
   "outputs": [
    {
     "name": "stdout",
     "output_type": "stream",
     "text": [
      "./data/train/audio/\n"
     ]
    }
   ],
   "source": [
    "labels, fnames = list_wavs_fname(train_data_path)"
   ]
  },
  {
   "cell_type": "code",
   "execution_count": 4,
   "metadata": {},
   "outputs": [],
   "source": [
    "def pad_audio_array(audio_array, L=16000):\n",
    "    s = np.min([audio_array.shape[0], L])\n",
    "    output_array = np.zeros((L,), dtype=audio_array.dtype)\n",
    "    output_array[:s] = audio_array[:s]\n",
    "    return output_array"
   ]
  },
  {
   "cell_type": "code",
   "execution_count": 5,
   "metadata": {},
   "outputs": [],
   "source": [
    "ohc = OneHotEncoder()"
   ]
  },
  {
   "cell_type": "code",
   "execution_count": 6,
   "metadata": {},
   "outputs": [
    {
     "name": "stderr",
     "output_type": "stream",
     "text": [
      "/home/krzysztof/.conda/envs/ml-gpu/lib/python3.7/site-packages/ipykernel_launcher.py:7: WavFileWarning: Chunk (non-data) not understood, skipping it.\n",
      "  import sys\n"
     ]
    }
   ],
   "source": [
    "L = 16000\n",
    "y_train_raw = []\n",
    "x_train_raw = []\n",
    "train_labels = 'yes no up down left right on off stop go silence unknown'.split()\n",
    "\n",
    "for label, fname in zip(labels, fnames):\n",
    "    sample_rate, samples = wavfile.read(os.path.join(train_data_path, label, fname))\n",
    "    samples = pad_audio_array(samples, L)\n",
    "    \n",
    "    if label == '_background_noise_':\n",
    "        label = 'silence'\n",
    "    elif label not in train_labels:\n",
    "        label = 'unknown'\n",
    "    \n",
    "    y_train_raw.append(label)\n",
    "    x_train_raw.append(samples)\n",
    "\n",
    "y_train_raw = np.array(y_train_raw).reshape(-1, 1)\n",
    "ohc.fit(y_train_raw.copy())\n",
    "y_train = ohc.transform(y_train_raw)\n",
    "x_train = np.array(x_train_raw)"
   ]
  },
  {
   "cell_type": "code",
   "execution_count": 7,
   "metadata": {},
   "outputs": [],
   "source": [
    "from sklearn.model_selection import train_test_split\n",
    "\n",
    "x_train, x_valid, y_train, y_valid = train_test_split(x_train, y_train, test_size=0.1, random_state=2017)"
   ]
  },
  {
   "cell_type": "code",
   "execution_count": 8,
   "metadata": {},
   "outputs": [],
   "source": [
    "y_valid_raw = ohc.inverse_transform(y_valid)"
   ]
  },
  {
   "cell_type": "code",
   "execution_count": 9,
   "metadata": {},
   "outputs": [],
   "source": [
    "real_words_valid_index = np.logical_and(y_valid_raw != 'silence', y_valid_raw != 'unknown').flatten()\n",
    "x_valid_real_words = x_valid[real_words_valid_index]\n",
    "y_valid_real_words = y_valid[real_words_valid_index]\n",
    "\n"
   ]
  },
  {
   "cell_type": "code",
   "execution_count": 10,
   "metadata": {},
   "outputs": [
    {
     "data": {
      "text/plain": [
       "(2428, 16000)"
      ]
     },
     "execution_count": 10,
     "metadata": {},
     "output_type": "execute_result"
    }
   ],
   "source": [
    "x_valid_real_words.shape"
   ]
  },
  {
   "cell_type": "code",
   "execution_count": 11,
   "metadata": {},
   "outputs": [],
   "source": [
    "x_train = np.reshape(x_train, (x_train.shape[0], 1, x_train.shape[1]))\n",
    "x_valid = np.reshape(x_valid, (x_valid.shape[0], 1, x_valid.shape[1]))\n",
    "x_valid_real_words = np.reshape(x_valid_real_words, (x_valid_real_words.shape[0], 1, x_valid_real_words.shape[1]))\n",
    "\n",
    "y_train = y_train.toarray()\n",
    "y_valid = y_valid.toarray()\n",
    "y_valid_real_words = y_valid_real_words.toarray()"
   ]
  },
  {
   "cell_type": "code",
   "execution_count": 12,
   "metadata": {},
   "outputs": [],
   "source": [
    "import tensorflow as tf\n",
    "from tensorflow.keras import regularizers\n",
    "\n",
    "from tensorflow.keras import layers, optimizers, losses, activations, models\n",
    "from tensorflow.keras.models import Model\n",
    "import tensorflow as tf\n",
    "from tensorflow.keras import backend as K"
   ]
  },
  {
   "cell_type": "code",
   "execution_count": 13,
   "metadata": {},
   "outputs": [],
   "source": [
    "NUM_CLASSES = None\n",
    "INPUT_SHAPE = None\n",
    "\n",
    "inp = layers.Input(shape=(1,16000))\n",
    "\n",
    "x = layers.Bidirectional(layers.LSTM(128, return_sequences=True))(inp)\n",
    "x = layers.BatchNormalization()(x)\n",
    "x = layers.GlobalMaxPool1D()(x)\n",
    "x = layers.Dense(100)(x)\n",
    "x = layers.Dense(12, activation=\"softmax\")(x)\n",
    "\n",
    "model = Model(inputs=inp, outputs=x)"
   ]
  },
  {
   "cell_type": "code",
   "execution_count": 14,
   "metadata": {},
   "outputs": [
    {
     "name": "stdout",
     "output_type": "stream",
     "text": [
      "Model: \"model\"\n",
      "_________________________________________________________________\n",
      "Layer (type)                 Output Shape              Param #   \n",
      "=================================================================\n",
      "input_1 (InputLayer)         [(None, 1, 16000)]        0         \n",
      "_________________________________________________________________\n",
      "bidirectional (Bidirectional (None, 1, 256)            16516096  \n",
      "_________________________________________________________________\n",
      "batch_normalization (BatchNo (None, 1, 256)            1024      \n",
      "_________________________________________________________________\n",
      "global_max_pooling1d (Global (None, 256)               0         \n",
      "_________________________________________________________________\n",
      "dense (Dense)                (None, 100)               25700     \n",
      "_________________________________________________________________\n",
      "dense_1 (Dense)              (None, 12)                1212      \n",
      "=================================================================\n",
      "Total params: 16,544,032\n",
      "Trainable params: 16,543,520\n",
      "Non-trainable params: 512\n",
      "_________________________________________________________________\n"
     ]
    }
   ],
   "source": [
    "model.summary()"
   ]
  },
  {
   "cell_type": "code",
   "execution_count": 15,
   "metadata": {},
   "outputs": [],
   "source": [
    "opt = optimizers.Adam()\n",
    "\n",
    "model.compile(optimizer=opt, loss=losses.binary_crossentropy, metrics=['accuracy'])"
   ]
  },
  {
   "cell_type": "code",
   "execution_count": 16,
   "metadata": {},
   "outputs": [
    {
     "name": "stdout",
     "output_type": "stream",
     "text": [
      "Train on 58254 samples, validate on 2428 samples\n",
      "Epoch 1/4\n",
      "58254/58254 [==============================] - 41s 709us/sample - loss: 0.2003 - accuracy: 0.9336 - val_loss: 0.4010 - val_accuracy: 0.8410\n",
      "Epoch 2/4\n",
      "58254/58254 [==============================] - 39s 669us/sample - loss: 0.1886 - accuracy: 0.9375 - val_loss: 0.3822 - val_accuracy: 0.8424\n",
      "Epoch 3/4\n",
      "58254/58254 [==============================] - 39s 671us/sample - loss: 0.1870 - accuracy: 0.9383 - val_loss: 0.3790 - val_accuracy: 0.8369\n",
      "Epoch 4/4\n",
      "58254/58254 [==============================] - 40s 678us/sample - loss: 0.1863 - accuracy: 0.9387 - val_loss: 0.3919 - val_accuracy: 0.8340\n"
     ]
    },
    {
     "data": {
      "text/plain": [
       "<tensorflow.python.keras.callbacks.History at 0x7f3398244090>"
      ]
     },
     "execution_count": 16,
     "metadata": {},
     "output_type": "execute_result"
    }
   ],
   "source": [
    "model.fit(x_train, y_train, batch_size=32, validation_data=(x_valid_real_words, y_valid_real_words), epochs=4)"
   ]
  },
  {
   "cell_type": "code",
   "execution_count": 17,
   "metadata": {},
   "outputs": [
    {
     "data": {
      "text/plain": [
       "(2428, 12)"
      ]
     },
     "execution_count": 17,
     "metadata": {},
     "output_type": "execute_result"
    }
   ],
   "source": [
    "y_valid_real_words.shape"
   ]
  },
  {
   "cell_type": "code",
   "execution_count": 18,
   "metadata": {},
   "outputs": [
    {
     "data": {
      "text/plain": [
       "(2428, 1, 16000)"
      ]
     },
     "execution_count": 18,
     "metadata": {},
     "output_type": "execute_result"
    }
   ],
   "source": [
    "x_valid_real_words.shape"
   ]
  },
  {
   "cell_type": "code",
   "execution_count": null,
   "metadata": {},
   "outputs": [],
   "source": []
  }
 ],
 "metadata": {
  "kernelspec": {
   "display_name": "Python (ml-gpu)",
   "language": "python",
   "name": "ml-gpu"
  },
  "language_info": {
   "codemirror_mode": {
    "name": "ipython",
    "version": 3
   },
   "file_extension": ".py",
   "mimetype": "text/x-python",
   "name": "python",
   "nbconvert_exporter": "python",
   "pygments_lexer": "ipython3",
   "version": "3.7.7"
  }
 },
 "nbformat": 4,
 "nbformat_minor": 4
}
