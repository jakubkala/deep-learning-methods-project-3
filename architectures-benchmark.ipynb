{
 "cells": [
  {
   "cell_type": "code",
   "execution_count": 1,
   "metadata": {},
   "outputs": [
    {
     "name": "stdout",
     "output_type": "stream",
     "text": [
      "['get_data.py', 'data-preprocessing.ipynb', 'kaggle_0.csv', 'EDA.ipynb', 'testing-kaggle-submission-conv-and-lstm.ipynb', 'testing-kaggle-submission.ipynb', 'data', '.git', 'kaggle_2.csv', 'kaggle_3.csv', '.ipynb_checkpoints', 'README.md', 'models', 'results', 'kaggle_gru_1.csv', 'testing-kaggle-submission-Recurrent.ipynb', 'test-json.json', '.gitignore', 'kaggle_lstm_1.csv', 'deep_learning_methods_project_3.ipynb', 'kaggle_4.csv', 'architectures-benchmark.ipynb', 'data-preprocessing-Copy1.ipynb']\n"
     ]
    }
   ],
   "source": [
    "import pandas as pd\n",
    "import numpy as np\n",
    "import os\n",
    "from tqdm import tqdm\n",
    "from glob import glob\n",
    "import gc\n",
    "import re\n",
    "from scipy.io import wavfile\n",
    "from scipy import signal\n",
    "\n",
    "\n",
    "train_data_path = \"data/train/train/audio/\"\n",
    "test_data_path = \"data/test/test/audio/\"\n",
    "\n",
    "print(os.listdir(\"./\"))\n",
    "\n",
    "train_labels = 'yes no up down left right on off stop go silence unknown'.split()"
   ]
  },
  {
   "cell_type": "code",
   "execution_count": 2,
   "metadata": {},
   "outputs": [],
   "source": [
    "def log_specgram(audio, sample_rate, window_size=20,\n",
    "\n",
    "                 step_size=10, eps=1e-10):\n",
    "    nperseg = int(round(window_size * sample_rate / 1e3))\n",
    "    noverlap = int(round(step_size * sample_rate / 1e3))\n",
    "    freqs, times, spec = signal.spectrogram(audio,\n",
    "                                    fs=sample_rate,\n",
    "                                    window='hann',\n",
    "                                    nperseg=nperseg,\n",
    "                                    noverlap=noverlap,\n",
    "                                    detrend=False)\n",
    "    return freqs, times, np.log(spec.T.astype(np.float32) + eps)"
   ]
  },
  {
   "cell_type": "code",
   "execution_count": 3,
   "metadata": {},
   "outputs": [],
   "source": [
    "def list_wavs_fname(dirpath, ext='wav'):\n",
    "    print(dirpath)\n",
    "    fpaths = glob(os.path.join(dirpath, r'*/*' + ext))\n",
    "    pat = r'.+/(\\w+)/\\w+\\.' + ext + '$'\n",
    "    labels = []\n",
    "    for fpath in fpaths:\n",
    "        r = re.match(pat, fpath)\n",
    "        if r:\n",
    "            labels.append(r.group(1))\n",
    "    pat = r'.+/(\\w+\\.' + ext + ')$'\n",
    "    fnames = []\n",
    "    for fpath in fpaths:\n",
    "        r = re.match(pat, fpath)\n",
    "        if r:\n",
    "            fnames.append(r.group(1))\n",
    "    return labels, fnames"
   ]
  },
  {
   "cell_type": "code",
   "execution_count": 4,
   "metadata": {},
   "outputs": [],
   "source": [
    "# pad_audio will pad audios that are less than 16000(1 second) with 0s to make them all have the same length.\n",
    "\n",
    "# chop_audio will chop audios that are larger than 16000(eg. wav files in background noises folder) to 16000 in length. Inaddition, it will create several chunks out of one large wav files given the parameter 'num'.\n",
    "\n",
    "# label_transform transform labels into dummies values. It's used in combination with softmax to predict the label.\n"
   ]
  },
  {
   "cell_type": "code",
   "execution_count": 5,
   "metadata": {},
   "outputs": [],
   "source": [
    "def pad_audio(samples):\n",
    "    if len(samples) >= L: return samples\n",
    "    else: return np.pad(samples, pad_width=(L - len(samples), 0), mode='constant', constant_values=(0, 0))\n"
   ]
  },
  {
   "cell_type": "code",
   "execution_count": 6,
   "metadata": {},
   "outputs": [],
   "source": [
    "def chop_audio(samples, L=16000, num=20):\n",
    "    for i in range(num):\n",
    "        beg = np.random.randint(0, len(samples) - L)\n",
    "        yield samples[beg: beg + L]\n"
   ]
  },
  {
   "cell_type": "code",
   "execution_count": 7,
   "metadata": {},
   "outputs": [],
   "source": [
    "def label_transform(labels):\n",
    "    nlabels = []\n",
    "    for label in labels:\n",
    "        if label == '_background_noise_':\n",
    "            nlabels.append('silence')\n",
    "        elif label not in train_labels:\n",
    "            nlabels.append('unknown')\n",
    "        else:\n",
    "            nlabels.append(label)\n",
    "    return pd.get_dummies(pd.Series(nlabels))\n"
   ]
  },
  {
   "cell_type": "code",
   "execution_count": 9,
   "metadata": {},
   "outputs": [
    {
     "name": "stdout",
     "output_type": "stream",
     "text": [
      "data/train/train/audio/\n"
     ]
    },
    {
     "name": "stderr",
     "output_type": "stream",
     "text": [
      "/home/krzys_spalinski/anaconda3/lib/python3.7/site-packages/ipykernel_launcher.py:9: WavFileWarning: Chunk (non-data) not understood, skipping it.\n",
      "  if __name__ == '__main__':\n"
     ]
    },
    {
     "name": "stdout",
     "output_type": "stream",
     "text": [
      "(64841, 99, 81, 1)\n"
     ]
    }
   ],
   "source": [
    "labels, fnames = list_wavs_fname(train_data_path)\n",
    "\n",
    "L = 16000\n",
    "new_sample_rate = 8000\n",
    "Y_train = []\n",
    "X_train = []\n",
    "\n",
    "for label, fname in zip(labels, fnames):\n",
    "    sample_rate, samples = wavfile.read(os.path.join(train_data_path, label, fname))\n",
    "    samples = pad_audio(samples)\n",
    "    if len(samples) > 16000:\n",
    "        n_samples = chop_audio(samples)\n",
    "    else: n_samples = [samples]\n",
    "    for samples in n_samples:\n",
    "        resampled = signal.resample(samples, int(new_sample_rate / sample_rate * samples.shape[0]))\n",
    "        _, _, specgram = log_specgram(resampled, sample_rate=new_sample_rate)\n",
    "        Y_train.append(label)\n",
    "        X_train.append(specgram)\n",
    "X_train = np.array(X_train)\n",
    "X_train = X_train.reshape(tuple(list(X_train.shape) + [1]))\n",
    "Y_train = label_transform(Y_train)\n",
    "label_index = Y_train.columns.values\n",
    "Y_train = Y_train.values\n",
    "Y_train = np.array(Y_train)\n",
    "\n",
    "del labels, fnames\n",
    "gc.collect()\n",
    "\n",
    "print(X_train.shape)\n"
   ]
  },
  {
   "cell_type": "code",
   "execution_count": 10,
   "metadata": {},
   "outputs": [],
   "source": [
    "from tensorflow.keras import optimizers, losses, activations, models\n",
    "from tensorflow.keras.layers import Convolution2D, Dense, Input, Flatten, Dropout, MaxPooling2D, BatchNormalization\n",
    "from sklearn.model_selection import train_test_split\n",
    "import tensorflow as tf"
   ]
  },
  {
   "cell_type": "code",
   "execution_count": 31,
   "metadata": {},
   "outputs": [
    {
     "name": "stdout",
     "output_type": "stream",
     "text": [
      "Model: \"model_1\"\n",
      "_________________________________________________________________\n",
      "Layer (type)                 Output Shape              Param #   \n",
      "=================================================================\n",
      "input_2 (InputLayer)         [(None, 99, 81, 1)]       0         \n",
      "_________________________________________________________________\n",
      "batch_normalization_3 (Batch (None, 99, 81, 1)         4         \n",
      "_________________________________________________________________\n",
      "conv2d_7 (Conv2D)            (None, 98, 80, 8)         40        \n",
      "_________________________________________________________________\n",
      "conv2d_8 (Conv2D)            (None, 97, 79, 8)         264       \n",
      "_________________________________________________________________\n",
      "conv2d_9 (Conv2D)            (None, 96, 78, 8)         264       \n",
      "_________________________________________________________________\n",
      "max_pooling2d_3 (MaxPooling2 (None, 48, 39, 8)         0         \n",
      "_________________________________________________________________\n",
      "dropout_3 (Dropout)          (None, 48, 39, 8)         0         \n",
      "_________________________________________________________________\n",
      "conv2d_10 (Conv2D)           (None, 46, 37, 16)        1168      \n",
      "_________________________________________________________________\n",
      "conv2d_11 (Conv2D)           (None, 44, 35, 16)        2320      \n",
      "_________________________________________________________________\n",
      "max_pooling2d_4 (MaxPooling2 (None, 22, 17, 16)        0         \n",
      "_________________________________________________________________\n",
      "dropout_4 (Dropout)          (None, 22, 17, 16)        0         \n",
      "_________________________________________________________________\n",
      "conv2d_12 (Conv2D)           (None, 20, 15, 32)        4640      \n",
      "_________________________________________________________________\n",
      "conv2d_13 (Conv2D)           (None, 18, 13, 32)        9248      \n",
      "_________________________________________________________________\n",
      "max_pooling2d_5 (MaxPooling2 (None, 9, 6, 32)          0         \n",
      "_________________________________________________________________\n",
      "dropout_5 (Dropout)          (None, 9, 6, 32)          0         \n",
      "_________________________________________________________________\n",
      "flatten_1 (Flatten)          (None, 1728)              0         \n",
      "_________________________________________________________________\n",
      "dense_3 (Dense)              (None, 128)               221312    \n",
      "_________________________________________________________________\n",
      "batch_normalization_4 (Batch (None, 128)               512       \n",
      "_________________________________________________________________\n",
      "dense_4 (Dense)              (None, 128)               16512     \n",
      "_________________________________________________________________\n",
      "batch_normalization_5 (Batch (None, 128)               512       \n",
      "_________________________________________________________________\n",
      "dense_5 (Dense)              (None, 12)                1548      \n",
      "=================================================================\n",
      "Total params: 258,344\n",
      "Trainable params: 257,830\n",
      "Non-trainable params: 514\n",
      "_________________________________________________________________\n"
     ]
    }
   ],
   "source": [
    "input_shape = (99, 81, 1)\n",
    "nclass = 12\n",
    "inp = Input(shape=input_shape)\n",
    "norm_inp = BatchNormalization()(inp)\n",
    "img_1 = Convolution2D(8, kernel_size=2, activation=activations.relu)(norm_inp)\n",
    "img_1 = Convolution2D(8, kernel_size=2, activation=activations.relu)(img_1)\n",
    "img_1 = Convolution2D(8, kernel_size=2, activation=activations.relu)(img_1)\n",
    "img_1 = MaxPooling2D(pool_size=(2, 2))(img_1)\n",
    "img_1 = Dropout(rate=0.2)(img_1)\n",
    "img_1 = Convolution2D(16, kernel_size=3, activation=activations.relu)(img_1)\n",
    "img_1 = Convolution2D(16, kernel_size=3, activation=activations.relu)(img_1)\n",
    "img_1 = MaxPooling2D(pool_size=(2, 2))(img_1)\n",
    "img_1 = Dropout(rate=0.2)(img_1)\n",
    "img_1 = Convolution2D(32, kernel_size=3, activation=activations.relu)(img_1)\n",
    "img_1 = Convolution2D(32, kernel_size=3, activation=activations.relu)(img_1)\n",
    "img_1 = MaxPooling2D(pool_size=(2, 2))(img_1)\n",
    "img_1 = Dropout(rate=0.2)(img_1)\n",
    "img_1 = Flatten()(img_1)\n",
    "\n",
    "dense_1 = BatchNormalization()(Dense(128, activation=activations.relu)(img_1))\n",
    "dense_1 = BatchNormalization()(Dense(128, activation=activations.relu)(dense_1))\n",
    "dense_1 = Dense(nclass, activation=activations.softmax)(dense_1)\n",
    "\n",
    "model = models.Model(inputs=inp, outputs=dense_1)\n",
    "opt = optimizers.Adam()\n",
    "\n",
    "model.compile(optimizer=opt, loss=losses.binary_crossentropy, metrics=['accuracy'])\n",
    "model.summary()"
   ]
  },
  {
   "cell_type": "code",
   "execution_count": 33,
   "metadata": {},
   "outputs": [
    {
     "name": "stdout",
     "output_type": "stream",
     "text": [
      "1642/1642 [==============================] - 154s 94ms/step - loss: 0.1550 - accuracy: 0.6595 - val_loss: 0.0905 - val_accuracy: 0.7856\n"
     ]
    }
   ],
   "source": [
    "x_train, x_valid, y_train, y_valid = train_test_split(X_train, Y_train, test_size=0.1, random_state=2017)\n",
    "history = model.fit(x_train, y_train, batch_size=32, validation_data=(x_valid, y_valid), epochs=1, shuffle=True)\n",
    "\n",
    "#model.save(os.path.join(model_path, 'cnn.model'))\n",
    "\n",
    "\n"
   ]
  },
  {
   "cell_type": "code",
   "execution_count": null,
   "metadata": {},
   "outputs": [],
   "source": [
    "import json"
   ]
  },
  {
   "cell_type": "code",
   "execution_count": 39,
   "metadata": {},
   "outputs": [
    {
     "data": {
      "text/plain": [
       "'{\"loss\": [0.15503691136837006], \"accuracy\": [0.6595011353492737], \"val_loss\": [0.09053700417280197], \"val_accuracy\": [0.7856408357620239]}'"
      ]
     },
     "execution_count": 39,
     "metadata": {},
     "output_type": "execute_result"
    }
   ],
   "source": [
    "json.dumps(history.history)"
   ]
  },
  {
   "cell_type": "code",
   "execution_count": 12,
   "metadata": {},
   "outputs": [],
   "source": [
    "def test_data_generator(batch=16):\n",
    "    fpaths = glob(os.path.join(test_data_path, '*wav'))\n",
    "    i = 0\n",
    "    for path in fpaths:\n",
    "        if i == 0:\n",
    "            imgs = []\n",
    "            fnames = []\n",
    "        i += 1\n",
    "        rate, samples = wavfile.read(path)\n",
    "        samples = pad_audio(samples)\n",
    "        resampled = signal.resample(samples, int(new_sample_rate / rate * samples.shape[0]))\n",
    "        _, _, specgram = log_specgram(resampled, sample_rate=new_sample_rate)\n",
    "        imgs.append(specgram)\n",
    "        fnames.append(path.split('\\\\')[-1])\n",
    "        if i == batch:\n",
    "            i = 0\n",
    "            imgs = np.array(imgs)\n",
    "            imgs = imgs.reshape(tuple(list(imgs.shape) + [1]))\n",
    "            yield fnames, imgs\n",
    "    if i < batch:\n",
    "        imgs = np.array(imgs)\n",
    "        imgs = imgs.reshape(tuple(list(imgs.shape) + [1]))\n",
    "        yield fnames, imgs\n",
    "    return\n",
    "\n",
    "# del x_train, y_train\n",
    "# gc.collect()\n",
    "\n",
    "# index = []\n",
    "# results = []\n",
    "\n",
    "# print(\"Test\")\n",
    "\n",
    "# for fnames, imgs in tqdm(test_data_generator(batch=32)):\n",
    "#     predicts = model.predict(imgs)\n",
    "#     predicts = np.argmax(predicts, axis=1)\n",
    "#     predicts = [label_index[p] for p in predicts]\n",
    "#     index.extend([text.split(\"/\")[-1] for text in fnames])\n",
    "#     results.extend(predicts)\n",
    "\n",
    "# df = pd.DataFrame(columns=['fname', 'label'])\n",
    "# df['fname'] = index\n",
    "# df['label'] = results\n",
    "# df.to_csv('sub.csv', index=False)"
   ]
  },
  {
   "cell_type": "code",
   "execution_count": 13,
   "metadata": {},
   "outputs": [],
   "source": [
    "from tensorflow.keras.callbacks import ModelCheckpoint\n",
    "import json\n",
    "\n",
    "def reset_weights(model):\n",
    "    for layer in model.layers: \n",
    "        if hasattr(layer, 'kernel_initializer'):\n",
    "            layer.kernel.initializer.run()\n",
    "            \n",
    "def validate_architecture(architecture_name,\n",
    "                          num_epochs,\n",
    "                          num_iterations):\n",
    "    \n",
    "    for it in range(num_iterations):\n",
    "    \n",
    "        # Reinitializing  weights\n",
    "        #reset_weights(model)\n",
    "        # no idea how to reset weights\n",
    "        input_shape = (99, 81, 1)\n",
    "        nclass = len(train_labels)\n",
    "        inp = Input(shape=input_shape)\n",
    "        norm_inp = BatchNormalization()(inp)\n",
    "        img_1 = Convolution2D(8, kernel_size=2, activation=activations.relu)(norm_inp)\n",
    "        img_1 = Convolution2D(8, kernel_size=2, activation=activations.relu)(img_1)\n",
    "        img_1 = Convolution2D(8, kernel_size=2, activation=activations.relu)(img_1)\n",
    "        img_1 = MaxPooling2D(pool_size=(2, 2))(img_1)\n",
    "        img_1 = Dropout(rate=0.2)(img_1)\n",
    "        img_1 = Convolution2D(16, kernel_size=3, activation=activations.relu)(img_1)\n",
    "        img_1 = Convolution2D(16, kernel_size=3, activation=activations.relu)(img_1)\n",
    "        img_1 = MaxPooling2D(pool_size=(2, 2))(img_1)\n",
    "        img_1 = Dropout(rate=0.2)(img_1)\n",
    "        img_1 = Convolution2D(32, kernel_size=3, activation=activations.relu)(img_1)\n",
    "        img_1 = Convolution2D(32, kernel_size=3, activation=activations.relu)(img_1)\n",
    "        img_1 = MaxPooling2D(pool_size=(2, 2))(img_1)\n",
    "        img_1 = Dropout(rate=0.2)(img_1)\n",
    "        img_1 = Flatten()(img_1)\n",
    "\n",
    "        dense_1 = BatchNormalization()(Dense(128, activation=activations.relu)(img_1))\n",
    "        dense_1 = BatchNormalization()(Dense(128, activation=activations.relu)(dense_1))\n",
    "        dense_1 = Dense(nclass, activation=activations.softmax)(dense_1)\n",
    "\n",
    "        model = models.Model(inputs=inp, outputs=dense_1)\n",
    "        opt = optimizers.Adam()\n",
    "\n",
    "        model.compile(optimizer=opt, loss=losses.binary_crossentropy, metrics=['accuracy'])\n",
    "    \n",
    "        x_train, x_valid, y_train, y_valid = train_test_split(X_train,\n",
    "                                                              Y_train,\n",
    "                                                              test_size=0.1)\n",
    "        \n",
    "        mc = ModelCheckpoint('best_model.h5',\n",
    "                     monitor='val_accuracy',\n",
    "                     mode='max',\n",
    "                     verbose=1,\n",
    "                     save_weights_only=True,\n",
    "                     save_best_only=True)\n",
    "        \n",
    "        history = model.fit(x_train,\n",
    "                            y_train,\n",
    "                            batch_size=32,\n",
    "                            validation_data=(x_valid, y_valid),\n",
    "                            epochs=num_epochs,\n",
    "                            shuffle=True,\n",
    "                            callbacks=[mc])\n",
    "        \n",
    "        history = history.history\n",
    "        \n",
    "        # saving json\n",
    "        with open(f'./results/results_{architecture_name}_{it}', 'w') as fp:\n",
    "            json.dump(history, fp, indent=4)\n",
    "            \n",
    "            \n",
    "        # prediction\n",
    "        index = []\n",
    "        results = []\n",
    "        \n",
    "        for fnames, imgs in tqdm(test_data_generator(batch=32)):\n",
    "            predicts = model.predict(imgs)\n",
    "            predicts = np.argmax(predicts, axis=1)\n",
    "            predicts = [label_index[p] for p in predicts]\n",
    "            index.extend([text.split(\"/\")[-1] for text in fnames])\n",
    "            results.extend(predicts)\n",
    "\n",
    "            df = pd.DataFrame(columns=['fname', 'label'])\n",
    "            df['fname'] = index\n",
    "            df['label'] = results\n",
    "            df.to_csv(f'./results/submission_{architecture_name}_{it}.csv', index=False)"
   ]
  },
  {
   "cell_type": "code",
   "execution_count": 14,
   "metadata": {},
   "outputs": [
    {
     "name": "stdout",
     "output_type": "stream",
     "text": [
      "1824/1824 [==============================] - ETA: 0s - loss: 0.1265 - accuracy: 0.7026\n",
      "Epoch 00001: val_accuracy improved from -inf to 0.84518, saving model to best_model.h5\n",
      "1824/1824 [==============================] - 177s 97ms/step - loss: 0.1265 - accuracy: 0.7026 - val_loss: 0.0662 - val_accuracy: 0.8452\n"
     ]
    },
    {
     "name": "stderr",
     "output_type": "stream",
     "text": [
      "4955it [21:46,  3.79it/s]\n"
     ]
    }
   ],
   "source": [
    "validate_architecture(\"baseline_test\", 1, 1)"
   ]
  },
  {
   "cell_type": "code",
   "execution_count": null,
   "metadata": {},
   "outputs": [],
   "source": []
  },
  {
   "cell_type": "code",
   "execution_count": null,
   "metadata": {},
   "outputs": [],
   "source": []
  }
 ],
 "metadata": {
  "kernelspec": {
   "display_name": "Python 3",
   "language": "python",
   "name": "python3"
  },
  "language_info": {
   "codemirror_mode": {
    "name": "ipython",
    "version": 3
   },
   "file_extension": ".py",
   "mimetype": "text/x-python",
   "name": "python",
   "nbconvert_exporter": "python",
   "pygments_lexer": "ipython3",
   "version": "3.7.6"
  }
 },
 "nbformat": 4,
 "nbformat_minor": 4
}
